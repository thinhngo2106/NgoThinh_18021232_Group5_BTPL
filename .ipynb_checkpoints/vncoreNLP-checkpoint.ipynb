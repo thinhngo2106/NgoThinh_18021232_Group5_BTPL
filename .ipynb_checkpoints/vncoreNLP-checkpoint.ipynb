{
 "cells": [
  {
   "cell_type": "code",
   "execution_count": 1,
   "metadata": {},
   "outputs": [],
   "source": [
    "from vncorenlp import VnCoreNLP\n",
    "from sklearn.feature_extraction.text import TfidfVectorizer\n",
    "from sklearn.model_selection import train_test_split\n",
    "from sklearn import metrics\n",
    "import pandas as pd"
   ]
  },
  {
   "cell_type": "code",
   "execution_count": 2,
   "metadata": {},
   "outputs": [],
   "source": [
    "annotator = VnCoreNLP(\"C:/Users/Thinh/KT-LAB/Week6/bai2/NLP Task/VnCoreNLP-1.1.1.jar\", annotators=\"wseg\", max_heap_size='-Xmx500m')\n",
    "\n",
    "stopword = set(line.strip() for line in open('vietnamese-stopwords.txt',encoding=\"utf8\"))"
   ]
  },
  {
   "cell_type": "code",
   "execution_count": 3,
   "metadata": {},
   "outputs": [],
   "source": [
    "df = pd.read_csv('trainning.txt', header=None, encoding = \"utf-8\", delimiter ='\\t')\n",
    "df.columns =[\"Label\", \"content\"]"
   ]
  },
  {
   "cell_type": "code",
   "execution_count": 4,
   "metadata": {},
   "outputs": [],
   "source": [
    "def join_strings_best(strings):\n",
    "    k = []\n",
    "    for i in strings:\n",
    "        l = ' '.join(str(x) for x in i)\n",
    "        k.append(l)\n",
    "    return ' '.join(k).replace(' .','.').replace(' ,',',')\n",
    "def remove_stopwords(line):\n",
    "    words = []\n",
    "    for word in line.split():\n",
    "        if word not in stopword:\n",
    "            words.append(word)\n",
    "    return ' '.join(words)"
   ]
  },
  {
   "cell_type": "code",
   "execution_count": 5,
   "metadata": {},
   "outputs": [],
   "source": [
    "for lable,k in df.iterrows():\n",
    "    lines = join_strings_best(annotator.tokenize(k[\"content\"]))\n",
    "    line = remove_stopwords(lines)\n",
    "    new_df = pd.DataFrame({'content': [line]},index= [lable])\n",
    "    df.update(new_df)\n"
   ]
  },
  {
   "cell_type": "code",
   "execution_count": 26,
   "metadata": {},
   "outputs": [
    {
     "name": "stdout",
     "output_type": "stream",
     "text": [
      "       Label                                            content\n",
      "0   __CTXH__  Gần 500 học_sinh học điều_kiện tạm_bợ ( NLĐ ) ...\n",
      "1   __CTXH__  Ngầm hoá công_trình hạ_tầng kỹ_thuật Theo đó, ...\n",
      "2   __CTXH__  Những vấn_đề tuyển_sinh ĐH-CĐ 2006 Phương_án t...\n",
      "3   __CTXH__  Chúng_tôi thẳng sự_thật Có khác_biệt trình_độ ...\n",
      "4   __CTXH__  Đà_Lạt : Xây_dựng công_viên 7,6 ha hạ_lưu hồ X...\n",
      "5   __CTXH__  Hàng nghìn ha rừng Đà_Nẵng nguy_cơ chết trụi d...\n",
      "6   __CTXH__  Thêm 200 xe_buýt TP HCM Hôm_qua, Công_ty liên_...\n",
      "7   __CTXH__  Bà_con hồ A_Vương đón tết Đỗ_Tài, Phó Chủ_tịch...\n",
      "8   __CTXH__  Đưa hoạt_động website Festival_Biển_Trang webs...\n",
      "9   __CTXH__  Công_ty Thái_Bình_Dương Bùi_Tiến_Dũng ưu_ái Tư...\n",
      "10  __CTXH__  Quân_nhân hộ_khẩu gia_đình, chứng_minh nhân_dâ...\n",
      "11  __CTXH__  TP. HCM di_dời bến_xe miền Đông_Cụ_thể, bến_xe...\n",
      "12  __CTXH__  800 gian_hàng tham_gia hội_chợ “ Thương_hiệu V...\n",
      "13  __CTXH__  Nhiều Việt Mỹ ' trắng_tay ' vụ cháy_chợ Khi gi...\n",
      "14  __CTXH__  Sông Đồng_Nai “ chết ” ! Ông Trần_Ngọc_Thới, P...\n"
     ]
    }
   ],
   "source": [
    "print(df[:15])"
   ]
  },
  {
   "cell_type": "code",
   "execution_count": 64,
   "metadata": {},
   "outputs": [],
   "source": [
    "label = df[\"Label\"]\n",
    "cn = df[\"content\"]\n",
    "k = pd.read_csv('labels.txt', header=None, encoding = \"utf-8\", delimiter ='\\t')\n",
    "k.columns=['Label']"
   ]
  },
  {
   "cell_type": "code",
   "execution_count": 65,
   "metadata": {},
   "outputs": [],
   "source": [
    "from sklearn import preprocessing"
   ]
  },
  {
   "cell_type": "code",
   "execution_count": 66,
   "metadata": {},
   "outputs": [],
   "source": [
    "le = preprocessing.LabelEncoder()\n",
    "\n"
   ]
  },
  {
   "cell_type": "code",
   "execution_count": null,
   "metadata": {},
   "outputs": [],
   "source": []
  },
  {
   "cell_type": "code",
   "execution_count": 67,
   "metadata": {},
   "outputs": [
    {
     "name": "stdout",
     "output_type": "stream",
     "text": [
      "0       __CTXH__\n",
      "1       __CTXH__\n",
      "2       __CTXH__\n",
      "3       __CTXH__\n",
      "4       __CTXH__\n",
      "          ...   \n",
      "4995      __VH__\n",
      "4996      __VH__\n",
      "4997      __VH__\n",
      "4998      __VH__\n",
      "4999      __VH__\n",
      "Name: Label, Length: 5000, dtype: object\n"
     ]
    }
   ],
   "source": [
    "le.fit(k['Label'])\n",
    "print(label)"
   ]
  },
  {
   "cell_type": "code",
   "execution_count": 62,
   "metadata": {},
   "outputs": [
    {
     "name": "stdout",
     "output_type": "stream",
     "text": [
      "[0 0 1 2]\n"
     ]
    },
    {
     "data": {
      "text/plain": [
       "array([1, 1, 2, 6])"
      ]
     },
     "execution_count": 62,
     "metadata": {},
     "output_type": "execute_result"
    }
   ],
   "source": []
  },
  {
   "cell_type": "code",
   "execution_count": 59,
   "metadata": {},
   "outputs": [],
   "source": [
    "Y = le.transform(label)"
   ]
  },
  {
   "cell_type": "code",
   "execution_count": 60,
   "metadata": {},
   "outputs": [
    {
     "name": "stdout",
     "output_type": "stream",
     "text": [
      "[0 0 0 ... 8 8 8]\n"
     ]
    }
   ],
   "source": [
    "print(Y)"
   ]
  },
  {
   "cell_type": "code",
   "execution_count": 37,
   "metadata": {},
   "outputs": [],
   "source": [
    "vectorizer = TfidfVectorizer()\n",
    "X = vectorizer.fit_transform(cn)"
   ]
  },
  {
   "cell_type": "code",
   "execution_count": 38,
   "metadata": {},
   "outputs": [],
   "source": [
    "X_train, X_test, y_train, y_test = train_test_split(\n",
    "    X, Y, test_size=0.2)"
   ]
  },
  {
   "cell_type": "code",
   "execution_count": 39,
   "metadata": {},
   "outputs": [
    {
     "name": "stdout",
     "output_type": "stream",
     "text": [
      "  (0, 14159)\t0.29298439940856164\n",
      "  (0, 27294)\t0.12558641653699842\n",
      "  (0, 35848)\t0.13825948236177504\n",
      "  (0, 7621)\t0.10977601863457803\n",
      "  (0, 24900)\t0.20905166860523328\n",
      "  (0, 16689)\t0.08758063518772653\n",
      "  (0, 14892)\t0.10210578544145958\n",
      "  (0, 19128)\t0.29298439940856164\n",
      "  (0, 37393)\t0.1304830624081423\n",
      "  (0, 39187)\t0.1088012212389652\n",
      "  (0, 20207)\t0.07580778054273182\n",
      "  (0, 25251)\t0.07555940583356555\n",
      "  (0, 36163)\t0.10612964496527516\n",
      "  (0, 37644)\t0.07274041799844401\n",
      "  (0, 19124)\t0.14279027366301508\n",
      "  (0, 15833)\t0.08758063518772653\n",
      "  (0, 32323)\t0.056721516634174775\n",
      "  (0, 15527)\t0.14390052925363037\n",
      "  (0, 9856)\t0.0777055441344562\n",
      "  (0, 26160)\t0.06505208659636676\n",
      "  (0, 41257)\t0.11011163585073794\n",
      "  (0, 48103)\t0.09261976851580278\n",
      "  (0, 48309)\t0.31674253364849375\n",
      "  (0, 38683)\t0.0936462011657264\n",
      "  (0, 40859)\t0.07436115971342382\n",
      "  :\t:\n",
      "  (3999, 9434)\t0.04476256247316546\n",
      "  (3999, 46432)\t0.029067496785089297\n",
      "  (3999, 32152)\t0.03306436030815397\n",
      "  (3999, 35872)\t0.0834625538342848\n",
      "  (3999, 40869)\t0.10454555805861757\n",
      "  (3999, 9960)\t0.039072728854609426\n",
      "  (3999, 28977)\t0.020950486621919222\n",
      "  (3999, 37603)\t0.036704012605668655\n",
      "  (3999, 24863)\t0.030142462760094076\n",
      "  (3999, 48214)\t0.04514091766548408\n",
      "  (3999, 40866)\t0.042127169300439464\n",
      "  (3999, 47206)\t0.028380093845676496\n",
      "  (3999, 21610)\t0.07102690013583793\n",
      "  (3999, 40862)\t0.11672145758466215\n",
      "  (3999, 9565)\t0.01913021067167775\n",
      "  (3999, 14135)\t0.036481800091454915\n",
      "  (3999, 38741)\t0.06629563709890546\n",
      "  (3999, 36339)\t0.028465052507577873\n",
      "  (3999, 14970)\t0.021740236995714545\n",
      "  (3999, 13659)\t0.04194546059757728\n",
      "  (3999, 40170)\t0.02912392633805338\n",
      "  (3999, 38595)\t0.025898141674456497\n",
      "  (3999, 28555)\t0.028232967880699476\n",
      "  (3999, 12259)\t0.041766687543699624\n",
      "  (3999, 27884)\t0.032090744415752555\n"
     ]
    }
   ],
   "source": [
    "print(X_train)\n"
   ]
  },
  {
   "cell_type": "code",
   "execution_count": 40,
   "metadata": {},
   "outputs": [],
   "source": [
    "from sklearn import svm"
   ]
  },
  {
   "cell_type": "code",
   "execution_count": 41,
   "metadata": {},
   "outputs": [],
   "source": [
    "model =  svm.SVC(kernel = 'liner')"
   ]
  },
  {
   "cell_type": "code",
   "execution_count": 42,
   "metadata": {},
   "outputs": [
    {
     "ename": "ValueError",
     "evalue": "'liner' is not in list",
     "output_type": "error",
     "traceback": [
      "\u001b[1;31m---------------------------------------------------------------------------\u001b[0m",
      "\u001b[1;31mValueError\u001b[0m                                Traceback (most recent call last)",
      "\u001b[1;32m<ipython-input-42-b7a8c64777c1>\u001b[0m in \u001b[0;36m<module>\u001b[1;34m\u001b[0m\n\u001b[1;32m----> 1\u001b[1;33m \u001b[0mmodel\u001b[0m\u001b[1;33m.\u001b[0m\u001b[0mfit\u001b[0m\u001b[1;33m(\u001b[0m\u001b[0mX_train\u001b[0m\u001b[1;33m,\u001b[0m\u001b[0my_train\u001b[0m\u001b[1;33m)\u001b[0m\u001b[1;33m\u001b[0m\u001b[1;33m\u001b[0m\u001b[0m\n\u001b[0m",
      "\u001b[1;32m~\\anaconda3\\lib\\site-packages\\sklearn\\svm\\_base.py\u001b[0m in \u001b[0;36mfit\u001b[1;34m(self, X, y, sample_weight)\u001b[0m\n\u001b[0;32m    215\u001b[0m \u001b[1;33m\u001b[0m\u001b[0m\n\u001b[0;32m    216\u001b[0m         \u001b[0mseed\u001b[0m \u001b[1;33m=\u001b[0m \u001b[0mrnd\u001b[0m\u001b[1;33m.\u001b[0m\u001b[0mrandint\u001b[0m\u001b[1;33m(\u001b[0m\u001b[0mnp\u001b[0m\u001b[1;33m.\u001b[0m\u001b[0miinfo\u001b[0m\u001b[1;33m(\u001b[0m\u001b[1;34m'i'\u001b[0m\u001b[1;33m)\u001b[0m\u001b[1;33m.\u001b[0m\u001b[0mmax\u001b[0m\u001b[1;33m)\u001b[0m\u001b[1;33m\u001b[0m\u001b[1;33m\u001b[0m\u001b[0m\n\u001b[1;32m--> 217\u001b[1;33m         \u001b[0mfit\u001b[0m\u001b[1;33m(\u001b[0m\u001b[0mX\u001b[0m\u001b[1;33m,\u001b[0m \u001b[0my\u001b[0m\u001b[1;33m,\u001b[0m \u001b[0msample_weight\u001b[0m\u001b[1;33m,\u001b[0m \u001b[0msolver_type\u001b[0m\u001b[1;33m,\u001b[0m \u001b[0mkernel\u001b[0m\u001b[1;33m,\u001b[0m \u001b[0mrandom_seed\u001b[0m\u001b[1;33m=\u001b[0m\u001b[0mseed\u001b[0m\u001b[1;33m)\u001b[0m\u001b[1;33m\u001b[0m\u001b[1;33m\u001b[0m\u001b[0m\n\u001b[0m\u001b[0;32m    218\u001b[0m         \u001b[1;31m# see comment on the other call to np.iinfo in this file\u001b[0m\u001b[1;33m\u001b[0m\u001b[1;33m\u001b[0m\u001b[1;33m\u001b[0m\u001b[0m\n\u001b[0;32m    219\u001b[0m \u001b[1;33m\u001b[0m\u001b[0m\n",
      "\u001b[1;32m~\\anaconda3\\lib\\site-packages\\sklearn\\svm\\_base.py\u001b[0m in \u001b[0;36m_sparse_fit\u001b[1;34m(self, X, y, sample_weight, solver_type, kernel, random_seed)\u001b[0m\n\u001b[0;32m    283\u001b[0m         \u001b[0mX\u001b[0m\u001b[1;33m.\u001b[0m\u001b[0msort_indices\u001b[0m\u001b[1;33m(\u001b[0m\u001b[1;33m)\u001b[0m\u001b[1;33m\u001b[0m\u001b[1;33m\u001b[0m\u001b[0m\n\u001b[0;32m    284\u001b[0m \u001b[1;33m\u001b[0m\u001b[0m\n\u001b[1;32m--> 285\u001b[1;33m         \u001b[0mkernel_type\u001b[0m \u001b[1;33m=\u001b[0m \u001b[0mself\u001b[0m\u001b[1;33m.\u001b[0m\u001b[0m_sparse_kernels\u001b[0m\u001b[1;33m.\u001b[0m\u001b[0mindex\u001b[0m\u001b[1;33m(\u001b[0m\u001b[0mkernel\u001b[0m\u001b[1;33m)\u001b[0m\u001b[1;33m\u001b[0m\u001b[1;33m\u001b[0m\u001b[0m\n\u001b[0m\u001b[0;32m    286\u001b[0m \u001b[1;33m\u001b[0m\u001b[0m\n\u001b[0;32m    287\u001b[0m         \u001b[0mlibsvm_sparse\u001b[0m\u001b[1;33m.\u001b[0m\u001b[0mset_verbosity_wrap\u001b[0m\u001b[1;33m(\u001b[0m\u001b[0mself\u001b[0m\u001b[1;33m.\u001b[0m\u001b[0mverbose\u001b[0m\u001b[1;33m)\u001b[0m\u001b[1;33m\u001b[0m\u001b[1;33m\u001b[0m\u001b[0m\n",
      "\u001b[1;31mValueError\u001b[0m: 'liner' is not in list"
     ]
    }
   ],
   "source": [
    "model.fit(X_train,y_train)"
   ]
  },
  {
   "cell_type": "code",
   "execution_count": null,
   "metadata": {},
   "outputs": [],
   "source": []
  }
 ],
 "metadata": {
  "kernelspec": {
   "display_name": "Python 3",
   "language": "python",
   "name": "python3"
  },
  "language_info": {
   "codemirror_mode": {
    "name": "ipython",
    "version": 3
   },
   "file_extension": ".py",
   "mimetype": "text/x-python",
   "name": "python",
   "nbconvert_exporter": "python",
   "pygments_lexer": "ipython3",
   "version": "3.8.3"
  }
 },
 "nbformat": 4,
 "nbformat_minor": 4
}
